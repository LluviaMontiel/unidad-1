{
 "cells": [
  {
   "cell_type": "code",
   "execution_count": 1,
   "metadata": {},
   "outputs": [
    {
     "name": "stdout",
     "output_type": "stream",
     "text": [
      "1 Missisipi\n",
      "2 Missisipi\n",
      "3 Missisipi\n",
      "4 Missisipi\n",
      "5 Missisipi\n",
      "¡Listo o no, ahí voy!\n"
     ]
    }
   ],
   "source": [
    "import time\n",
    "    # Escribe un ciclo for que cuente hasta cinco.\n",
    "for i in range(1,6):\n",
    "    # Cuerpo del ciclo: imprime el número de iteración del ciclo y la palabra \"Mississippi\".\n",
    "    print(i, \"Missisipi\")\n",
    "    # Cuerpo del ciclo - uso: time.sleep (1)\n",
    "    time.sleep(1)\n",
    "# Escribe una función de impresión con el mensaje final.\n",
    "print(\"¡Listo o no, ahí voy!\")"
   ]
  },
  {
   "cell_type": "code",
   "execution_count": null,
   "metadata": {},
   "outputs": [],
   "source": []
  }
 ],
 "metadata": {
  "kernelspec": {
   "display_name": "Python 3",
   "language": "python",
   "name": "python3"
  },
  "language_info": {
   "codemirror_mode": {
    "name": "ipython",
    "version": 3
   },
   "file_extension": ".py",
   "mimetype": "text/x-python",
   "name": "python",
   "nbconvert_exporter": "python",
   "pygments_lexer": "ipython3",
   "version": "3.8.3"
  }
 },
 "nbformat": 4,
 "nbformat_minor": 4
}
