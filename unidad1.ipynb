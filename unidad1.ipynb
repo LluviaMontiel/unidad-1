{
 "cells": [
  {
   "cell_type": "code",
   "execution_count": 1,
   "metadata": {},
   "outputs": [
    {
     "name": "stdout",
     "output_type": "stream",
     "text": [
      "¡Hola, mundo!\n",
      "El valor de x es 5 El valor de 'y' es 7\n"
     ]
    }
   ],
   "source": [
    "x = 5\n",
    "y = 7\n",
    "print(\"¡Hola, mundo!\")\n",
    "print('El valor de x es', x, 'El valor de \\'y\\' es', y )"
   ]
  },
  {
   "cell_type": "code",
   "execution_count": 3,
   "metadata": {},
   "outputs": [
    {
     "name": "stdout",
     "output_type": "stream",
     "text": [
      "El valor de x es 5***El valor de 'y' es 7\n",
      "Holas\n"
     ]
    }
   ],
   "source": [
    "# Usamos el parametro end para especificar cal es el terminador de linea\n",
    "# en una instruccion print\n",
    "print('El valor de x es', x, end='***' )\n",
    "print('El valor de \\'y\\' es', y)\n",
    "print(\"Holas\")"
   ]
  },
  {
   "cell_type": "code",
   "execution_count": 4,
   "metadata": {},
   "outputs": [
    {
     "name": "stdout",
     "output_type": "stream",
     "text": [
      "El valor de x => 5\n",
      " El valor de 'y' es 7\n"
     ]
    }
   ],
   "source": [
    "#Especificar el texto que separa los argumentos de la función print\n",
    "#Usampos el parametro sep para indicar el separador de argumentos\n",
    "print('El valor de x', x, sep=\" => \")\n",
    "print(' El valor de \\'y\\' es', y)"
   ]
  },
  {
   "cell_type": "code",
   "execution_count": 5,
   "metadata": {},
   "outputs": [
    {
     "name": "stdout",
     "output_type": "stream",
     "text": [
      "El valor de x => 5\n",
      "\n",
      "\n",
      "El valor de 'y' es 7\n"
     ]
    }
   ],
   "source": [
    "#Especificar separador de argumentos y el terminador de linea\n",
    "print('El valor de x', x, sep=\" => \", end='\\n\\n\\n')\n",
    "print('El valor de \\'y\\' es', y)"
   ]
  },
  {
   "cell_type": "code",
   "execution_count": 6,
   "metadata": {},
   "outputs": [
    {
     "name": "stdout",
     "output_type": "stream",
     "text": [
      "texto\n"
     ]
    }
   ],
   "source": [
    "x = 1100000\n",
    "x = 123.87\n",
    "x = \"texto\"\n",
    "print(x)"
   ]
  },
  {
   "cell_type": "code",
   "execution_count": 7,
   "metadata": {},
   "outputs": [
    {
     "name": "stdout",
     "output_type": "stream",
     "text": [
      "55000000\n"
     ]
    }
   ],
   "source": [
    "\n",
    "# Numeros con separadores de miles\n",
    "# forzosamente debe usarse un guion bajo\n",
    "x = 11_000_000\n",
    "y = 5\n",
    "print(x * y)"
   ]
  },
  {
   "cell_type": "code",
   "execution_count": 8,
   "metadata": {},
   "outputs": [
    {
     "name": "stdout",
     "output_type": "stream",
     "text": [
      "5349\n"
     ]
    }
   ],
   "source": [
    "# Valores octales\n",
    "x = 0o12345\n",
    "print(x)"
   ]
  },
  {
   "cell_type": "code",
   "execution_count": 10,
   "metadata": {},
   "outputs": [
    {
     "name": "stdout",
     "output_type": "stream",
     "text": [
      "74565\n"
     ]
    }
   ],
   "source": [
    "# Valores hexadecimales\n",
    "x = 0x12345\n",
    "print(x)"
   ]
  },
  {
   "cell_type": "code",
   "execution_count": 11,
   "metadata": {},
   "outputs": [
    {
     "name": "stdout",
     "output_type": "stream",
     "text": [
      "0.5\n"
     ]
    }
   ],
   "source": [
    "z = .5\n",
    "print(z)"
   ]
  },
  {
   "cell_type": "code",
   "execution_count": 12,
   "metadata": {},
   "outputs": [
    {
     "name": "stdout",
     "output_type": "stream",
     "text": [
      "300000000 300000000.0\n"
     ]
    }
   ],
   "source": [
    "vl = 300_000_000\n",
    "vl2 = 3e8\n",
    "print(vl, vl2)"
   ]
  },
  {
   "cell_type": "code",
   "execution_count": 13,
   "metadata": {},
   "outputs": [
    {
     "name": "stdout",
     "output_type": "stream",
     "text": [
      "80.0\n"
     ]
    }
   ],
   "source": [
    "w = 0.08e3\n",
    "print(w)"
   ]
  },
  {
   "cell_type": "code",
   "execution_count": 14,
   "metadata": {},
   "outputs": [
    {
     "name": "stdout",
     "output_type": "stream",
     "text": [
      "I'm a boy\n",
      "I\"m a boy\n"
     ]
    }
   ],
   "source": [
    "x = \"I'm a boy\"\n",
    "print(x)\n",
    "y = 'I\"m a boy'\n",
    "print(y)"
   ]
  },
  {
   "cell_type": "code",
   "execution_count": 15,
   "metadata": {},
   "outputs": [
    {
     "name": "stdout",
     "output_type": "stream",
     "text": [
      "**************************************************\n"
     ]
    }
   ],
   "source": [
    "print(\"**************************************************\")"
   ]
  },
  {
   "cell_type": "code",
   "execution_count": 16,
   "metadata": {},
   "outputs": [
    {
     "name": "stdout",
     "output_type": "stream",
     "text": [
      "Hola Hola Hola Hola Hola Hola Hola Hola Hola Hola Hola Hola Hola Hola Hola Hola Hola Hola Hola Hola Hola Hola Hola Hola Hola Hola Hola Hola Hola Hola Hola Hola Hola Hola Hola Hola Hola Hola Hola Hola Hola Hola Hola Hola Hola Hola Hola Hola Hola Hola \n"
     ]
    }
   ],
   "source": [
    "#Multiplicar cadenas de texto\n",
    "print(\"Hola \" * 50)"
   ]
  },
  {
   "cell_type": "code",
   "execution_count": 17,
   "metadata": {},
   "outputs": [
    {
     "name": "stdout",
     "output_type": "stream",
     "text": [
      "8\n"
     ]
    }
   ],
   "source": [
    "#Exponenciacion\n",
    "print(2**3)"
   ]
  },
  {
   "cell_type": "code",
   "execution_count": 18,
   "metadata": {},
   "outputs": [
    {
     "name": "stdout",
     "output_type": "stream",
     "text": [
      "15.0\n"
     ]
    }
   ],
   "source": [
    "#Si se multiplica por un flotante, el resultado será flotante\n",
    "print(3*5.0)\n"
   ]
  },
  {
   "cell_type": "code",
   "execution_count": 19,
   "metadata": {},
   "outputs": [
    {
     "name": "stdout",
     "output_type": "stream",
     "text": [
      "5.0\n"
     ]
    }
   ],
   "source": [
    "#El resultado de una division siempre es flotante\n",
    "print(10/2)"
   ]
  },
  {
   "cell_type": "code",
   "execution_count": 20,
   "metadata": {},
   "outputs": [
    {
     "name": "stdout",
     "output_type": "stream",
     "text": [
      "4\n"
     ]
    }
   ],
   "source": [
    "#La doble diagonal omite el decimal\n",
    "print(9//2)"
   ]
  },
  {
   "cell_type": "code",
   "execution_count": 21,
   "metadata": {},
   "outputs": [
    {
     "name": "stdout",
     "output_type": "stream",
     "text": [
      "1\n"
     ]
    }
   ],
   "source": [
    "#Para sacar el modulo o residuo de una division\n",
    "print(9%2)"
   ]
  },
  {
   "cell_type": "code",
   "execution_count": 22,
   "metadata": {},
   "outputs": [
    {
     "name": "stdout",
     "output_type": "stream",
     "text": [
      "2\n"
     ]
    }
   ],
   "source": [
    "\n",
    "print(+2)"
   ]
  },
  {
   "cell_type": "code",
   "execution_count": 23,
   "metadata": {},
   "outputs": [
    {
     "name": "stdout",
     "output_type": "stream",
     "text": [
      "17\n"
     ]
    }
   ],
   "source": [
    "print(2 + 3 * 5)"
   ]
  },
  {
   "cell_type": "code",
   "execution_count": 24,
   "metadata": {},
   "outputs": [
    {
     "name": "stdout",
     "output_type": "stream",
     "text": [
      "256\n"
     ]
    }
   ],
   "source": [
    "#En dos operadores con la misma prioridad, primero ejecuta la operación empezando por la derecha\n",
    "print(2 ** 2 ** 3)"
   ]
  },
  {
   "cell_type": "code",
   "execution_count": 25,
   "metadata": {},
   "outputs": [
    {
     "name": "stdout",
     "output_type": "stream",
     "text": [
      "123 Hola mundo\n"
     ]
    }
   ],
   "source": [
    "#Es key sensitive\n",
    "x = 123\n",
    "X = \"Hola mundo\"\n",
    "print(x,X)"
   ]
  },
  {
   "cell_type": "code",
   "execution_count": 26,
   "metadata": {},
   "outputs": [
    {
     "name": "stdout",
     "output_type": "stream",
     "text": [
      "1\n"
     ]
    }
   ],
   "source": [
    "cualquier_nombre_de_variable_puede_usarse = 1\n",
    "print(cualquier_nombre_de_variable_puede_usarse)"
   ]
  },
  {
   "cell_type": "code",
   "execution_count": 27,
   "metadata": {},
   "outputs": [
    {
     "name": "stdout",
     "output_type": "stream",
     "text": [
      "8\n"
     ]
    }
   ],
   "source": [
    "oveja = 5\n",
    "oveja = oveja + 3\n",
    "print(oveja)\n"
   ]
  },
  {
   "cell_type": "code",
   "execution_count": 28,
   "metadata": {},
   "outputs": [
    {
     "name": "stdout",
     "output_type": "stream",
     "text": [
      "8\n"
     ]
    }
   ],
   "source": [
    "oveja = 5\n",
    "oveja += 3\n",
    "print(oveja)"
   ]
  },
  {
   "cell_type": "code",
   "execution_count": 29,
   "metadata": {},
   "outputs": [
    {
     "name": "stdout",
     "output_type": "stream",
     "text": [
      "125\n"
     ]
    }
   ],
   "source": [
    "x = 5\n",
    "x **= 3\n",
    "print(x)"
   ]
  },
  {
   "cell_type": "code",
   "execution_count": 30,
   "metadata": {},
   "outputs": [
    {
     "name": "stdout",
     "output_type": "stream",
     "text": [
      "3.3333333333333335\n"
     ]
    }
   ],
   "source": [
    "x = 10\n",
    "x = x/3\n",
    "print(x)"
   ]
  },
  {
   "cell_type": "code",
   "execution_count": 31,
   "metadata": {},
   "outputs": [
    {
     "name": "stdout",
     "output_type": "stream",
     "text": [
      "3.3333333333333335\n"
     ]
    }
   ],
   "source": [
    "x = 10\n",
    "x /= 3\n",
    "print(x)"
   ]
  },
  {
   "cell_type": "code",
   "execution_count": 32,
   "metadata": {},
   "outputs": [
    {
     "data": {
      "text/plain": [
       "'\"\\ncomentarios de multiples lineas\\n'"
      ]
     },
     "execution_count": 32,
     "metadata": {},
     "output_type": "execute_result"
    }
   ],
   "source": [
    "\n",
    "# Comentario de una sola linea\n",
    "\"\"\"\"\n",
    "comentarios de multiples lineas\n",
    "\"\"\""
   ]
  },
  {
   "cell_type": "code",
   "execution_count": 33,
   "metadata": {},
   "outputs": [
    {
     "name": "stdout",
     "output_type": "stream",
     "text": [
      "Dime algo...\n",
      "algo\n",
      "Mmm... algo ...¿en serio?\n"
     ]
    }
   ],
   "source": [
    "print(\"Dime algo...\")\n",
    "algo = input()\n",
    "print(\"Mmm...\", algo, \"...¿en serio?\")"
   ]
  },
  {
   "cell_type": "code",
   "execution_count": 34,
   "metadata": {},
   "outputs": [
    {
     "name": "stdout",
     "output_type": "stream",
     "text": [
      "Dame un número para multiplicar 10\n",
      "2.0\n"
     ]
    }
   ],
   "source": [
    "x = float(input(\"Dame un número para multiplicar \"))\n",
    "z = x // 5\n",
    "print(z)\n"
   ]
  },
  {
   "cell_type": "code",
   "execution_count": 35,
   "metadata": {},
   "outputs": [
    {
     "name": "stdout",
     "output_type": "stream",
     "text": [
      "Inserta la longitud del primer cateto: 15\n",
      "Inserta la longitud del segundo cateto 10\n",
      "La longitud de la hipotenusa es:  18.027756377319946\n"
     ]
    }
   ],
   "source": [
    "\n",
    "cateto_a = float(input(\"Inserta la longitud del primer cateto: \"))\n",
    "cateto_b = float(input(\"Inserta la longitud del segundo cateto \"))\n",
    "hipo = (cateto_a**2 + cateto_b**2) ** .5\n",
    "print(\"La longitud de la hipotenusa es: \", hipo)"
   ]
  },
  {
   "cell_type": "code",
   "execution_count": 36,
   "metadata": {},
   "outputs": [
    {
     "name": "stdout",
     "output_type": "stream",
     "text": [
      "¿Me puedes dar tu nombre por favor? Lluvia \n",
      "¿Me puedes dar tu apellido por favor? Montiel \n",
      "Gracias.\n",
      "\n",
      "Tu nombre es Lluvia  Montiel .\n"
     ]
    }
   ],
   "source": [
    "nom = input(\"¿Me puedes dar tu nombre por favor? \")\n",
    "ape = input(\"¿Me puedes dar tu apellido por favor? \")\n",
    "print(\"Gracias.\")\n",
    "print(\"\\nTu nombre es \" + nom + \" \" + ape + \".\")"
   ]
  },
  {
   "cell_type": "code",
   "execution_count": 37,
   "metadata": {},
   "outputs": [
    {
     "name": "stdout",
     "output_type": "stream",
     "text": [
      "22222\n",
      "10\n"
     ]
    }
   ],
   "source": [
    "print(\"2\" * 5)\n",
    "print(2 * 5)"
   ]
  },
  {
   "cell_type": "code",
   "execution_count": 38,
   "metadata": {},
   "outputs": [
    {
     "name": "stdout",
     "output_type": "stream",
     "text": [
      "0\n",
      "1\n",
      "2\n",
      "3\n",
      "4\n"
     ]
    }
   ],
   "source": [
    "#Si no se especifica un rango inicial, por default empieza en 0\n",
    "#Cuando se establece el limite o rango final siempre será ese valor -1\n",
    "for x in range (5):\n",
    "    print(x)"
   ]
  },
  {
   "cell_type": "code",
   "execution_count": 39,
   "metadata": {},
   "outputs": [
    {
     "name": "stdout",
     "output_type": "stream",
     "text": [
      "2\n",
      "3\n",
      "4\n",
      "5\n",
      "6\n",
      "7\n",
      "8\n",
      "9\n"
     ]
    }
   ],
   "source": [
    "#Indicando un rango inicial y un rango final\n",
    "for x in range (2,10):\n",
    "    print(x)"
   ]
  },
  {
   "cell_type": "code",
   "execution_count": 40,
   "metadata": {},
   "outputs": [
    {
     "name": "stdout",
     "output_type": "stream",
     "text": [
      "1\n",
      "3\n",
      "5\n",
      "7\n",
      "9\n"
     ]
    }
   ],
   "source": [
    "#Indicando un valor de incremento por cada repetición o iteración\n",
    "for x in range (1,10,2):\n",
    "    print(x)"
   ]
  },
  {
   "cell_type": "code",
   "execution_count": 41,
   "metadata": {},
   "outputs": [
    {
     "name": "stdout",
     "output_type": "stream",
     "text": [
      "naranja\n",
      "platano\n",
      "sandia\n",
      "melon\n"
     ]
    }
   ],
   "source": [
    "# Lista de valores\n",
    "frutas = [\"naranja\", \"platano\", \"sandia\", \"melon\", \"guayaba\"]\n",
    "numeros = [1, 5, 3, 8, 99]\n",
    "for x in frutas:\n",
    "    print(x)\n",
    "    #puedo usar la instruccion break para salir del ciclo\n",
    "    if x == \"melon\":\n",
    "        break"
   ]
  },
  {
   "cell_type": "code",
   "execution_count": 42,
   "metadata": {},
   "outputs": [
    {
     "name": "stdout",
     "output_type": "stream",
     "text": [
      "¿Qué valor deseas multiplicar?3\n",
      "3 x 1 = 3\n",
      "3 x 2 = 6\n",
      "3 x 3 = 9\n",
      "3 x 4 = 12\n",
      "3 x 5 = 15\n",
      "3 x 6 = 18\n",
      "3 x 7 = 21\n",
      "3 x 8 = 24\n",
      "3 x 9 = 27\n",
      "3 x 10 = 30\n"
     ]
    }
   ],
   "source": [
    "# Tabla de multiplicar\n",
    "valor = int(input(\"¿Qué valor deseas multiplicar?\"))\n",
    "for i in range (1,11):\n",
    "    print(valor, \"x\", i, \"=\", valor*i)"
   ]
  },
  {
   "cell_type": "code",
   "execution_count": null,
   "metadata": {},
   "outputs": [],
   "source": []
  }
 ],
 "metadata": {
  "kernelspec": {
   "display_name": "Python 3",
   "language": "python",
   "name": "python3"
  },
  "language_info": {
   "codemirror_mode": {
    "name": "ipython",
    "version": 3
   },
   "file_extension": ".py",
   "mimetype": "text/x-python",
   "name": "python",
   "nbconvert_exporter": "python",
   "pygments_lexer": "ipython3",
   "version": "3.8.3"
  }
 },
 "nbformat": 4,
 "nbformat_minor": 4
}
